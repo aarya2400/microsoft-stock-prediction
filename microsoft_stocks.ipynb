{
 "cells": [
  {
   "cell_type": "code",
   "execution_count": 51,
   "id": "1681f749-2219-4687-809f-59bb07da9a4b",
   "metadata": {},
   "outputs": [],
   "source": [
    "import pandas as pd\n",
    "import matplotlib.pyplot as plt\n",
    "%matplotlib inline"
   ]
  },
  {
   "cell_type": "code",
   "execution_count": 52,
   "id": "e01f2a5c-3d95-47c5-a430-35b9064bd111",
   "metadata": {},
   "outputs": [],
   "source": [
    "ms = pd.read_csv('Microsoft_Stock.csv')"
   ]
  },
  {
   "cell_type": "code",
   "execution_count": 53,
   "id": "ba837e67-406f-45ca-a725-4630473b77ff",
   "metadata": {},
   "outputs": [
    {
     "name": "stdout",
     "output_type": "stream",
     "text": [
      "                Date   Open   High    Low  Close    Volume\n",
      "0  4/1/2015 16:00:00  40.60  40.76  40.31  40.72  36865322\n",
      "1  4/2/2015 16:00:00  40.66  40.74  40.12  40.29  37487476\n",
      "2  4/6/2015 16:00:00  40.34  41.78  40.18  41.55  39223692\n",
      "3  4/7/2015 16:00:00  41.61  41.91  41.31  41.53  28809375\n",
      "4  4/8/2015 16:00:00  41.48  41.69  41.04  41.42  24753438\n"
     ]
    }
   ],
   "source": [
    "print(ms.head())"
   ]
  },
  {
   "cell_type": "code",
   "execution_count": 54,
   "id": "cbea01c5-9e48-4417-b082-379075047497",
   "metadata": {},
   "outputs": [
    {
     "data": {
      "text/plain": [
       "'4/1/2015 16:00:00'"
      ]
     },
     "execution_count": 54,
     "metadata": {},
     "output_type": "execute_result"
    }
   ],
   "source": [
    "ms.iloc[0,0]"
   ]
  },
  {
   "cell_type": "code",
   "execution_count": 55,
   "id": "0b551127-b107-4b60-bf35-44fd6332bf2f",
   "metadata": {},
   "outputs": [],
   "source": [
    "ms['Date'] = pd.to_datetime(ms['Date'])"
   ]
  },
  {
   "cell_type": "code",
   "execution_count": 56,
   "id": "cf3b49ab-0ac5-4ebe-a219-dd6eb2b98710",
   "metadata": {},
   "outputs": [],
   "source": [
    "ms.set_index('Date', inplace=True)"
   ]
  },
  {
   "cell_type": "code",
   "execution_count": 57,
   "id": "b9757135-8834-48f1-9211-2626846f6d06",
   "metadata": {},
   "outputs": [
    {
     "data": {
      "text/html": [
       "<div>\n",
       "<style scoped>\n",
       "    .dataframe tbody tr th:only-of-type {\n",
       "        vertical-align: middle;\n",
       "    }\n",
       "\n",
       "    .dataframe tbody tr th {\n",
       "        vertical-align: top;\n",
       "    }\n",
       "\n",
       "    .dataframe thead th {\n",
       "        text-align: right;\n",
       "    }\n",
       "</style>\n",
       "<table border=\"1\" class=\"dataframe\">\n",
       "  <thead>\n",
       "    <tr style=\"text-align: right;\">\n",
       "      <th></th>\n",
       "      <th>Open</th>\n",
       "      <th>High</th>\n",
       "      <th>Low</th>\n",
       "      <th>Close</th>\n",
       "      <th>Volume</th>\n",
       "    </tr>\n",
       "    <tr>\n",
       "      <th>Date</th>\n",
       "      <th></th>\n",
       "      <th></th>\n",
       "      <th></th>\n",
       "      <th></th>\n",
       "      <th></th>\n",
       "    </tr>\n",
       "  </thead>\n",
       "  <tbody>\n",
       "    <tr>\n",
       "      <th>2015-04-01 16:00:00</th>\n",
       "      <td>40.60</td>\n",
       "      <td>40.76</td>\n",
       "      <td>40.31</td>\n",
       "      <td>40.72</td>\n",
       "      <td>36865322</td>\n",
       "    </tr>\n",
       "    <tr>\n",
       "      <th>2015-04-02 16:00:00</th>\n",
       "      <td>40.66</td>\n",
       "      <td>40.74</td>\n",
       "      <td>40.12</td>\n",
       "      <td>40.29</td>\n",
       "      <td>37487476</td>\n",
       "    </tr>\n",
       "    <tr>\n",
       "      <th>2015-04-06 16:00:00</th>\n",
       "      <td>40.34</td>\n",
       "      <td>41.78</td>\n",
       "      <td>40.18</td>\n",
       "      <td>41.55</td>\n",
       "      <td>39223692</td>\n",
       "    </tr>\n",
       "    <tr>\n",
       "      <th>2015-04-07 16:00:00</th>\n",
       "      <td>41.61</td>\n",
       "      <td>41.91</td>\n",
       "      <td>41.31</td>\n",
       "      <td>41.53</td>\n",
       "      <td>28809375</td>\n",
       "    </tr>\n",
       "    <tr>\n",
       "      <th>2015-04-08 16:00:00</th>\n",
       "      <td>41.48</td>\n",
       "      <td>41.69</td>\n",
       "      <td>41.04</td>\n",
       "      <td>41.42</td>\n",
       "      <td>24753438</td>\n",
       "    </tr>\n",
       "  </tbody>\n",
       "</table>\n",
       "</div>"
      ],
      "text/plain": [
       "                      Open   High    Low  Close    Volume\n",
       "Date                                                     \n",
       "2015-04-01 16:00:00  40.60  40.76  40.31  40.72  36865322\n",
       "2015-04-02 16:00:00  40.66  40.74  40.12  40.29  37487476\n",
       "2015-04-06 16:00:00  40.34  41.78  40.18  41.55  39223692\n",
       "2015-04-07 16:00:00  41.61  41.91  41.31  41.53  28809375\n",
       "2015-04-08 16:00:00  41.48  41.69  41.04  41.42  24753438"
      ]
     },
     "execution_count": 57,
     "metadata": {},
     "output_type": "execute_result"
    }
   ],
   "source": [
    "ms.head()"
   ]
  },
  {
   "cell_type": "code",
   "execution_count": 58,
   "id": "b2cbf9d4-ace1-47e7-94be-cd441ff5304b",
   "metadata": {},
   "outputs": [
    {
     "name": "stdout",
     "output_type": "stream",
     "text": [
      "(1511, 5)\n"
     ]
    }
   ],
   "source": [
    "print(ms.shape)"
   ]
  },
  {
   "cell_type": "code",
   "execution_count": 59,
   "id": "e86a74ad-ab5a-4079-ad93-00284b38fc68",
   "metadata": {},
   "outputs": [
    {
     "name": "stdout",
     "output_type": "stream",
     "text": [
      "                       Open    High     Low   Close    Volume\n",
      "Date                                                         \n",
      "2021-03-25 16:00:00  235.30  236.94  231.57  232.34  34061853\n",
      "2021-03-26 16:00:00  231.55  236.71  231.55  236.48  25479853\n",
      "2021-03-29 16:00:00  236.59  236.80  231.88  235.24  25227455\n",
      "2021-03-30 16:00:00  233.53  233.85  231.10  231.85  24792012\n",
      "2021-03-31 16:00:00  232.91  239.10  232.39  235.77  43623471\n"
     ]
    }
   ],
   "source": [
    "print(ms.tail())"
   ]
  },
  {
   "cell_type": "code",
   "execution_count": 60,
   "id": "3c0dd22a-ec11-4dcc-af14-b622c6fee9a0",
   "metadata": {},
   "outputs": [
    {
     "name": "stdout",
     "output_type": "stream",
     "text": [
      "              Open         High          Low        Close        Volume\n",
      "count  1511.000000  1511.000000  1511.000000  1511.000000  1.511000e+03\n",
      "mean    107.385976   108.437472   106.294533   107.422091  3.019863e+07\n",
      "std      56.691333    57.382276    55.977155    56.702299  1.425266e+07\n",
      "min      40.340000    40.740000    39.720000    40.290000  1.016120e+05\n",
      "25%      57.860000    58.060000    57.420000    57.855000  2.136213e+07\n",
      "50%      93.990000    95.100000    92.920000    93.860000  2.662962e+07\n",
      "75%     139.440000   140.325000   137.825000   138.965000  3.431962e+07\n",
      "max     245.030000   246.130000   242.920000   244.990000  1.352271e+08\n"
     ]
    }
   ],
   "source": [
    "print(ms.describe())"
   ]
  },
  {
   "cell_type": "code",
   "execution_count": 61,
   "id": "39bb4d7e-d232-4b7c-9802-f824dd043583",
   "metadata": {},
   "outputs": [
    {
     "name": "stdout",
     "output_type": "stream",
     "text": [
      "                      Open   High    Low  Close    Volume\n",
      "Date                                                     \n",
      "2016-01-04 16:00:00  54.32  54.80  53.39  54.80  53777963\n",
      "2016-01-05 16:00:00  54.93  55.39  54.54  55.05  34079674\n",
      "2016-01-06 16:00:00  54.32  54.40  53.64  54.05  39518863\n",
      "2016-01-07 16:00:00  52.70  53.49  52.07  52.17  56564852\n",
      "2016-01-08 16:00:00  52.37  53.28  52.15  52.33  48753969\n",
      "...                    ...    ...    ...    ...       ...\n",
      "2016-12-23 16:00:00  63.45  63.54  62.80  63.24  12403819\n",
      "2016-12-27 16:00:00  63.21  64.07  63.21  63.28  11763173\n",
      "2016-12-28 16:00:00  63.40  63.40  62.83  62.99  14653348\n",
      "2016-12-29 16:00:00  62.86  63.20  62.73  62.90  10250582\n",
      "2016-12-30 16:00:00  62.96  62.99  62.03  62.14  25579908\n",
      "\n",
      "[252 rows x 5 columns]\n"
     ]
    }
   ],
   "source": [
    "# Selecting all price information of microsoft in 2016\n",
    "# Selection by label for row data \n",
    "ms_2016 = ms.loc['2016-01-01':'2016-12-31']\n",
    "print(ms_2016)"
   ]
  },
  {
   "cell_type": "code",
   "execution_count": 62,
   "id": "d5a3ad36-34e7-45b5-a154-5ff9593bed4e",
   "metadata": {},
   "outputs": [
    {
     "name": "stdout",
     "output_type": "stream",
     "text": [
      "                      Open  High   Low  Close    Volume\n",
      "Date                                                   \n",
      "2016-03-16 16:00:00  53.45  54.6  53.4  54.35  31691742\n"
     ]
    }
   ],
   "source": [
    "# Selection by label for row data \n",
    "# printing price of microsoft on date 2016-03-16 \n",
    "price_16 = ms.loc['2016-03-16']\n",
    "print(price_16)"
   ]
  },
  {
   "cell_type": "code",
   "execution_count": 63,
   "id": "d2d23e20-7a74-4edb-934e-2adad75d541c",
   "metadata": {},
   "outputs": [
    {
     "name": "stdout",
     "output_type": "stream",
     "text": [
      "40.6\n"
     ]
    }
   ],
   "source": [
    "# Selection by position for a row of data\n",
    "#print opening price of first row\n",
    "print(ms.iloc[0,0])"
   ]
  },
  {
   "cell_type": "code",
   "execution_count": 64,
   "id": "f5a1d39b-2a1a-47b6-ae66-9a9631b97905",
   "metadata": {},
   "outputs": [
    {
     "name": "stdout",
     "output_type": "stream",
     "text": [
      "232.91\n"
     ]
    }
   ],
   "source": [
    "#print opening price of last row\n",
    "print(ms.iloc[-1,0])"
   ]
  },
  {
   "cell_type": "code",
   "execution_count": 65,
   "id": "f169e109-de3c-462c-932a-06d0d7cf6b7a",
   "metadata": {},
   "outputs": [
    {
     "data": {
      "image/png": "[encoded data removed]",
      "text/plain": [
       "<Figure size 1000x800 with 1 Axes>"
      ]
     },
     "metadata": {},
     "output_type": "display_data"
    }
   ],
   "source": [
    "# Plotting stock data using plot() method\n",
    "plt.figure(figsize=(10, 8))\n",
    "ms['Close'].plot()\n",
    "plt.title(\"Stock Close Price Over Time\")\n",
    "plt.xlabel(\"Date\")\n",
    "plt.ylabel(\"Close Price\")\n",
    "plt.grid(True)\n",
    "plt.show()\n"
   ]
  },
  {
   "cell_type": "markdown",
   "id": "f39ff13c-e058-4949-9fc3-a6b1bcb72c11",
   "metadata": {},
   "source": [
    "# Create a new column Price difference"
   ]
  },
  {
   "cell_type": "code",
   "execution_count": 66,
   "id": "f8ff84b0-00e8-4d65-b868-4874f9623532",
   "metadata": {},
   "outputs": [
    {
     "name": "stdout",
     "output_type": "stream",
     "text": [
      "                      Open   High    Low  Close    Volume  PriceDiff\n",
      "Date                                                                \n",
      "2015-04-01 16:00:00  40.60  40.76  40.31  40.72  36865322      -0.43\n",
      "2015-04-02 16:00:00  40.66  40.74  40.12  40.29  37487476       1.26\n",
      "2015-04-06 16:00:00  40.34  41.78  40.18  41.55  39223692      -0.02\n",
      "2015-04-07 16:00:00  41.61  41.91  41.31  41.53  28809375      -0.11\n",
      "2015-04-08 16:00:00  41.48  41.69  41.04  41.42  24753438       0.06\n"
     ]
    }
   ],
   "source": [
    "ms['PriceDiff'] = ms['Close'].shift(-1) - ms['Close']\n",
    "print(ms.head(5))"
   ]
  },
  {
   "cell_type": "code",
   "execution_count": 67,
   "id": "9903aa65-bb94-4b7b-b5e4-4ca16455e423",
   "metadata": {},
   "outputs": [
    {
     "data": {
      "text/plain": [
       "Date\n",
       "2016-01-05 16:00:00   -1.0\n",
       "Name: PriceDiff, dtype: float64"
      ]
     },
     "execution_count": 67,
     "metadata": {},
     "output_type": "execute_result"
    }
   ],
   "source": [
    "#lets check price difference of Microsoft on 2016-01-05\n",
    "ms['PriceDiff'].loc['2016-01-05']"
   ]
  },
  {
   "cell_type": "markdown",
   "id": "52e4f3fa-1c7b-464d-a45a-0ff5adc39672",
   "metadata": {},
   "source": [
    "# Create new column for daily return  \n",
    "\n",
    "### Daily Return = PriceDiff / Close"
   ]
  },
  {
   "cell_type": "code",
   "execution_count": 68,
   "id": "b1b837aa-8100-4221-a0a2-7ccd1a265f09",
   "metadata": {},
   "outputs": [],
   "source": [
    "ms['Return'] = ms['PriceDiff']/ms['Close']"
   ]
  },
  {
   "cell_type": "code",
   "execution_count": 69,
   "id": "969ea60f-066b-48ac-aa87-41546108302a",
   "metadata": {},
   "outputs": [
    {
     "name": "stdout",
     "output_type": "stream",
     "text": [
      "Date\n",
      "2015-04-01 16:00:00   -0.01056\n",
      "Name: Return, dtype: float64\n"
     ]
    }
   ],
   "source": [
    "# lets check return on 2015-04-01\n",
    "print(ms['Return'].loc['2015-04-01'])"
   ]
  },
  {
   "cell_type": "markdown",
   "id": "c8d72e51-9a44-43f5-8a83-f762f0cad17e",
   "metadata": {},
   "source": [
    "# Create new column in dataframe using list comprehension - Direction \n",
    "\n",
    "### List comprehension means : if priceDiff > 0 , it's denoted as 1 else denoted as 0 "
   ]
  },
  {
   "cell_type": "code",
   "execution_count": 70,
   "id": "bdca106d-66e3-486d-82a0-089a52969678",
   "metadata": {},
   "outputs": [],
   "source": [
    "ms['Direction'] = [1 if ms['PriceDiff'].loc[ei] > 0 else 0 for ei in ms.index]"
   ]
  },
  {
   "cell_type": "code",
   "execution_count": 71,
   "id": "ac63f346-69f0-450b-ace3-16f76086ccd6",
   "metadata": {},
   "outputs": [
    {
     "name": "stdout",
     "output_type": "stream",
     "text": [
      "Price difference on 2015-04-01 is -0.4299999999999997. direction is 0\n"
     ]
    }
   ],
   "source": [
    "print('Price difference on {} is {}. direction is {}'.format('2015-04-01', ms['PriceDiff'].loc['2015-04-01'].iloc[0],ms['Direction'].loc['2015-04-01'].iloc[0]))"
   ]
  },
  {
   "cell_type": "markdown",
   "id": "db93ab5e-a9eb-487b-a2d6-ec2d3ca10a76",
   "metadata": {},
   "source": [
    "# Create new column using rolling window calc ( .rolling()) - Moving average"
   ]
  },
  {
   "cell_type": "code",
   "execution_count": 72,
   "id": "d217f0fa-6367-4320-aa6c-968d19a337cc",
   "metadata": {},
   "outputs": [],
   "source": [
    "ms['ma50'] = ms['Close'].rolling(50).mean()"
   ]
  },
  {
   "cell_type": "code",
   "execution_count": 73,
   "id": "1779ebcd-7fa1-405a-840f-32ef23d34476",
   "metadata": {},
   "outputs": [
    {
     "data": {
      "image/png": "[encoded data removed]",
      "text/plain": [
       "<Figure size 1000x800 with 1 Axes>"
      ]
     },
     "metadata": {},
     "output_type": "display_data"
    }
   ],
   "source": [
    "plt.figure(figsize=(10, 8))\n",
    "ms['ma50'].loc['2016-01-01':'2016-12-31'].plot(label='50-Day MA', color='orange')\n",
    "ms['Close'].loc['2016-01-01':'2016-12-31'].plot(label='Close Price', color='blue')\n",
    "plt.title(\"Stock Close Price vs 50-Day Moving Average (2016)\")\n",
    "plt.xlabel(\"Date\")\n",
    "plt.ylabel(\"Price\")\n",
    "plt.grid(True)\n",
    "plt.legend()\n",
    "plt.show()"
   ]
  },
  {
   "cell_type": "markdown",
   "id": "da4e7f39-9599-4889-b114-56f0bd603a5a",
   "metadata": {},
   "source": [
    "# Building simple trading strategy "
   ]
  },
  {
   "cell_type": "markdown",
   "id": "21c5fcfa-bf27-4dc4-9d23-3437f0065623",
   "metadata": {},
   "source": [
    "#### 1. Munging stock data and adding 2 columns MA10 and MA50"
   ]
  },
  {
   "cell_type": "code",
   "execution_count": 74,
   "id": "503d6861-d910-4477-ad23-6e70e2894d4f",
   "metadata": {},
   "outputs": [],
   "source": [
    "ms['ma10'] = ms['Close'].rolling(10).mean()"
   ]
  },
  {
   "cell_type": "code",
   "execution_count": 75,
   "id": "f3f0838d-4c2f-4b08-a861-9316fdaed9d4",
   "metadata": {},
   "outputs": [
    {
     "data": {
      "text/html": [
       "<div>\n",
       "<style scoped>\n",
       "    .dataframe tbody tr th:only-of-type {\n",
       "        vertical-align: middle;\n",
       "    }\n",
       "\n",
       "    .dataframe tbody tr th {\n",
       "        vertical-align: top;\n",
       "    }\n",
       "\n",
       "    .dataframe thead th {\n",
       "        text-align: right;\n",
       "    }\n",
       "</style>\n",
       "<table border=\"1\" class=\"dataframe\">\n",
       "  <thead>\n",
       "    <tr style=\"text-align: right;\">\n",
       "      <th></th>\n",
       "      <th>Open</th>\n",
       "      <th>High</th>\n",
       "      <th>Low</th>\n",
       "      <th>Close</th>\n",
       "      <th>Volume</th>\n",
       "      <th>PriceDiff</th>\n",
       "      <th>Return</th>\n",
       "      <th>Direction</th>\n",
       "      <th>ma50</th>\n",
       "      <th>ma10</th>\n",
       "    </tr>\n",
       "    <tr>\n",
       "      <th>Date</th>\n",
       "      <th></th>\n",
       "      <th></th>\n",
       "      <th></th>\n",
       "      <th></th>\n",
       "      <th></th>\n",
       "      <th></th>\n",
       "      <th></th>\n",
       "      <th></th>\n",
       "      <th></th>\n",
       "      <th></th>\n",
       "    </tr>\n",
       "  </thead>\n",
       "  <tbody>\n",
       "    <tr>\n",
       "      <th>2015-06-11 16:00:00</th>\n",
       "      <td>46.66</td>\n",
       "      <td>46.92</td>\n",
       "      <td>46.13</td>\n",
       "      <td>46.44</td>\n",
       "      <td>27347758</td>\n",
       "      <td>-0.47</td>\n",
       "      <td>-0.010121</td>\n",
       "      <td>0</td>\n",
       "      <td>45.6266</td>\n",
       "      <td>46.479</td>\n",
       "    </tr>\n",
       "    <tr>\n",
       "      <th>2015-06-12 16:00:00</th>\n",
       "      <td>46.20</td>\n",
       "      <td>46.47</td>\n",
       "      <td>45.90</td>\n",
       "      <td>45.97</td>\n",
       "      <td>23930972</td>\n",
       "      <td>-0.49</td>\n",
       "      <td>-0.010659</td>\n",
       "      <td>0</td>\n",
       "      <td>45.7316</td>\n",
       "      <td>46.390</td>\n",
       "    </tr>\n",
       "    <tr>\n",
       "      <th>2015-06-15 16:00:00</th>\n",
       "      <td>45.45</td>\n",
       "      <td>45.65</td>\n",
       "      <td>45.02</td>\n",
       "      <td>45.48</td>\n",
       "      <td>33254517</td>\n",
       "      <td>0.35</td>\n",
       "      <td>0.007696</td>\n",
       "      <td>1</td>\n",
       "      <td>45.8354</td>\n",
       "      <td>46.215</td>\n",
       "    </tr>\n",
       "    <tr>\n",
       "      <th>2015-06-16 16:00:00</th>\n",
       "      <td>45.35</td>\n",
       "      <td>46.24</td>\n",
       "      <td>45.30</td>\n",
       "      <td>45.83</td>\n",
       "      <td>27070306</td>\n",
       "      <td>0.14</td>\n",
       "      <td>0.003055</td>\n",
       "      <td>1</td>\n",
       "      <td>45.9210</td>\n",
       "      <td>46.106</td>\n",
       "    </tr>\n",
       "    <tr>\n",
       "      <th>2015-06-17 16:00:00</th>\n",
       "      <td>45.73</td>\n",
       "      <td>46.07</td>\n",
       "      <td>45.36</td>\n",
       "      <td>45.97</td>\n",
       "      <td>28704061</td>\n",
       "      <td>0.75</td>\n",
       "      <td>0.016315</td>\n",
       "      <td>1</td>\n",
       "      <td>46.0098</td>\n",
       "      <td>46.018</td>\n",
       "    </tr>\n",
       "  </tbody>\n",
       "</table>\n",
       "</div>"
      ],
      "text/plain": [
       "                      Open   High    Low  Close    Volume  PriceDiff  \\\n",
       "Date                                                                   \n",
       "2015-06-11 16:00:00  46.66  46.92  46.13  46.44  27347758      -0.47   \n",
       "2015-06-12 16:00:00  46.20  46.47  45.90  45.97  23930972      -0.49   \n",
       "2015-06-15 16:00:00  45.45  45.65  45.02  45.48  33254517       0.35   \n",
       "2015-06-16 16:00:00  45.35  46.24  45.30  45.83  27070306       0.14   \n",
       "2015-06-17 16:00:00  45.73  46.07  45.36  45.97  28704061       0.75   \n",
       "\n",
       "                       Return  Direction     ma50    ma10  \n",
       "Date                                                       \n",
       "2015-06-11 16:00:00 -0.010121          0  45.6266  46.479  \n",
       "2015-06-12 16:00:00 -0.010659          0  45.7316  46.390  \n",
       "2015-06-15 16:00:00  0.007696          1  45.8354  46.215  \n",
       "2015-06-16 16:00:00  0.003055          1  45.9210  46.106  \n",
       "2015-06-17 16:00:00  0.016315          1  46.0098  46.018  "
      ]
     },
     "execution_count": 75,
     "metadata": {},
     "output_type": "execute_result"
    }
   ],
   "source": [
    "# using dropna to remove \"Not a Number\" data\n",
    "ms = ms.dropna()\n",
    "ms.head()"
   ]
  },
  {
   "cell_type": "markdown",
   "id": "1b54722e-fbc0-475b-926f-b5fd40ede3af",
   "metadata": {},
   "source": [
    "#### 2. Adding new column \"Shares\" to make decisions based on strategy\n",
    "##### if MA10>MA50, denote as 1 (long one share of stock), otherwise, denote as 0 (do nothing)"
   ]
  },
  {
   "cell_type": "code",
   "execution_count": 76,
   "id": "19b35dc5-8434-4a22-b248-3ec5469aac01",
   "metadata": {},
   "outputs": [
    {
     "data": {
      "text/html": [
       "<div>\n",
       "<style scoped>\n",
       "    .dataframe tbody tr th:only-of-type {\n",
       "        vertical-align: middle;\n",
       "    }\n",
       "\n",
       "    .dataframe tbody tr th {\n",
       "        vertical-align: top;\n",
       "    }\n",
       "\n",
       "    .dataframe thead th {\n",
       "        text-align: right;\n",
       "    }\n",
       "</style>\n",
       "<table border=\"1\" class=\"dataframe\">\n",
       "  <thead>\n",
       "    <tr style=\"text-align: right;\">\n",
       "      <th></th>\n",
       "      <th>Open</th>\n",
       "      <th>High</th>\n",
       "      <th>Low</th>\n",
       "      <th>Close</th>\n",
       "      <th>Volume</th>\n",
       "      <th>PriceDiff</th>\n",
       "      <th>Return</th>\n",
       "      <th>Direction</th>\n",
       "      <th>ma50</th>\n",
       "      <th>ma10</th>\n",
       "      <th>Shares</th>\n",
       "    </tr>\n",
       "    <tr>\n",
       "      <th>Date</th>\n",
       "      <th></th>\n",
       "      <th></th>\n",
       "      <th></th>\n",
       "      <th></th>\n",
       "      <th></th>\n",
       "      <th></th>\n",
       "      <th></th>\n",
       "      <th></th>\n",
       "      <th></th>\n",
       "      <th></th>\n",
       "      <th></th>\n",
       "    </tr>\n",
       "  </thead>\n",
       "  <tbody>\n",
       "    <tr>\n",
       "      <th>2021-03-24 16:00:00</th>\n",
       "      <td>237.85</td>\n",
       "      <td>238.00</td>\n",
       "      <td>235.32</td>\n",
       "      <td>235.46</td>\n",
       "      <td>25620127</td>\n",
       "      <td>-3.12</td>\n",
       "      <td>-0.013251</td>\n",
       "      <td>0</td>\n",
       "      <td>233.5678</td>\n",
       "      <td>235.254</td>\n",
       "      <td>1</td>\n",
       "    </tr>\n",
       "    <tr>\n",
       "      <th>2021-03-25 16:00:00</th>\n",
       "      <td>235.30</td>\n",
       "      <td>236.94</td>\n",
       "      <td>231.57</td>\n",
       "      <td>232.34</td>\n",
       "      <td>34061853</td>\n",
       "      <td>4.14</td>\n",
       "      <td>0.017819</td>\n",
       "      <td>1</td>\n",
       "      <td>233.9160</td>\n",
       "      <td>234.775</td>\n",
       "      <td>1</td>\n",
       "    </tr>\n",
       "    <tr>\n",
       "      <th>2021-03-26 16:00:00</th>\n",
       "      <td>231.55</td>\n",
       "      <td>236.71</td>\n",
       "      <td>231.55</td>\n",
       "      <td>236.48</td>\n",
       "      <td>25479853</td>\n",
       "      <td>-1.24</td>\n",
       "      <td>-0.005244</td>\n",
       "      <td>0</td>\n",
       "      <td>234.3188</td>\n",
       "      <td>234.848</td>\n",
       "      <td>1</td>\n",
       "    </tr>\n",
       "    <tr>\n",
       "      <th>2021-03-29 16:00:00</th>\n",
       "      <td>236.59</td>\n",
       "      <td>236.80</td>\n",
       "      <td>231.88</td>\n",
       "      <td>235.24</td>\n",
       "      <td>25227455</td>\n",
       "      <td>-3.39</td>\n",
       "      <td>-0.014411</td>\n",
       "      <td>0</td>\n",
       "      <td>234.7632</td>\n",
       "      <td>234.891</td>\n",
       "      <td>1</td>\n",
       "    </tr>\n",
       "    <tr>\n",
       "      <th>2021-03-30 16:00:00</th>\n",
       "      <td>233.53</td>\n",
       "      <td>233.85</td>\n",
       "      <td>231.10</td>\n",
       "      <td>231.85</td>\n",
       "      <td>24792012</td>\n",
       "      <td>3.92</td>\n",
       "      <td>0.016907</td>\n",
       "      <td>1</td>\n",
       "      <td>235.1472</td>\n",
       "      <td>234.305</td>\n",
       "      <td>0</td>\n",
       "    </tr>\n",
       "  </tbody>\n",
       "</table>\n",
       "</div>"
      ],
      "text/plain": [
       "                       Open    High     Low   Close    Volume  PriceDiff  \\\n",
       "Date                                                                       \n",
       "2021-03-24 16:00:00  237.85  238.00  235.32  235.46  25620127      -3.12   \n",
       "2021-03-25 16:00:00  235.30  236.94  231.57  232.34  34061853       4.14   \n",
       "2021-03-26 16:00:00  231.55  236.71  231.55  236.48  25479853      -1.24   \n",
       "2021-03-29 16:00:00  236.59  236.80  231.88  235.24  25227455      -3.39   \n",
       "2021-03-30 16:00:00  233.53  233.85  231.10  231.85  24792012       3.92   \n",
       "\n",
       "                       Return  Direction      ma50     ma10  Shares  \n",
       "Date                                                                 \n",
       "2021-03-24 16:00:00 -0.013251          0  233.5678  235.254       1  \n",
       "2021-03-25 16:00:00  0.017819          1  233.9160  234.775       1  \n",
       "2021-03-26 16:00:00 -0.005244          0  234.3188  234.848       1  \n",
       "2021-03-29 16:00:00 -0.014411          0  234.7632  234.891       1  \n",
       "2021-03-30 16:00:00  0.016907          1  235.1472  234.305       0  "
      ]
     },
     "execution_count": 76,
     "metadata": {},
     "output_type": "execute_result"
    }
   ],
   "source": [
    "ms['Shares'] = [1 if ms.loc[ei,'ma10'] > ms.loc[ei,'ma50'] else 0 for ei in ms.index]\n",
    "ms.tail()"
   ]
  },
  {
   "cell_type": "markdown",
   "id": "583a81e5-b2ff-49a4-bcb3-d21df757aecd",
   "metadata": {},
   "source": [
    "### Add new column \"Profit\" using list comprehension, for any rows in ms, if shares=1,\n",
    "### profit = close price of tomorrow - close price of today ,  otherwise profit is 0"
   ]
  },
  {
   "cell_type": "code",
   "execution_count": 77,
   "id": "dd147aa2-abc5-41b1-bced-d707e7829ca0",
   "metadata": {},
   "outputs": [],
   "source": [
    "ms['Close1'] = ms['Close'].shift(-1)\n",
    "ms['Profit'] = [ms.loc[ei,'Close1'] - ms.loc[ei, 'Close'] if ms.loc[ei, 'Shares']==1 else 0 for ei in ms.index]\n"
   ]
  },
  {
   "cell_type": "code",
   "execution_count": 78,
   "id": "4d05557c-c29c-4d11-a19b-8ccdcd2d5100",
   "metadata": {},
   "outputs": [
    {
     "data": {
      "text/plain": [
       "<matplotlib.lines.Line2D at 0x21626c53f90>"
      ]
     },
     "execution_count": 78,
     "metadata": {},
     "output_type": "execute_result"
    },
    {
     "data": {
      "image/png": "[encoded data removed]",
      "text/plain": [
       "<Figure size 640x480 with 1 Axes>"
      ]
     },
     "metadata": {},
     "output_type": "display_data"
    }
   ],
   "source": [
    "ms['Profit'].plot()\n",
    "plt.axhline(y=0, color='red')"
   ]
  },
  {
   "cell_type": "markdown",
   "id": "b63745d7-60e6-430f-b2a2-d7f50dbb9343",
   "metadata": {},
   "source": [
    "#### 3. Use .cumsum() to display our model's performance if we follow the strategy"
   ]
  },
  {
   "cell_type": "code",
   "execution_count": 79,
   "id": "20d81284-734e-4fd9-a015-515e32afda4f",
   "metadata": {},
   "outputs": [
    {
     "data": {
      "text/html": [
       "<div>\n",
       "<style scoped>\n",
       "    .dataframe tbody tr th:only-of-type {\n",
       "        vertical-align: middle;\n",
       "    }\n",
       "\n",
       "    .dataframe tbody tr th {\n",
       "        vertical-align: top;\n",
       "    }\n",
       "\n",
       "    .dataframe thead th {\n",
       "        text-align: right;\n",
       "    }\n",
       "</style>\n",
       "<table border=\"1\" class=\"dataframe\">\n",
       "  <thead>\n",
       "    <tr style=\"text-align: right;\">\n",
       "      <th></th>\n",
       "      <th>Open</th>\n",
       "      <th>High</th>\n",
       "      <th>Low</th>\n",
       "      <th>Close</th>\n",
       "      <th>Volume</th>\n",
       "      <th>PriceDiff</th>\n",
       "      <th>Return</th>\n",
       "      <th>Direction</th>\n",
       "      <th>ma50</th>\n",
       "      <th>ma10</th>\n",
       "      <th>Shares</th>\n",
       "      <th>Close1</th>\n",
       "      <th>Profit</th>\n",
       "      <th>wealth</th>\n",
       "    </tr>\n",
       "    <tr>\n",
       "      <th>Date</th>\n",
       "      <th></th>\n",
       "      <th></th>\n",
       "      <th></th>\n",
       "      <th></th>\n",
       "      <th></th>\n",
       "      <th></th>\n",
       "      <th></th>\n",
       "      <th></th>\n",
       "      <th></th>\n",
       "      <th></th>\n",
       "      <th></th>\n",
       "      <th></th>\n",
       "      <th></th>\n",
       "      <th></th>\n",
       "    </tr>\n",
       "  </thead>\n",
       "  <tbody>\n",
       "    <tr>\n",
       "      <th>2021-03-24 16:00:00</th>\n",
       "      <td>237.85</td>\n",
       "      <td>238.00</td>\n",
       "      <td>235.32</td>\n",
       "      <td>235.46</td>\n",
       "      <td>25620127</td>\n",
       "      <td>-3.12</td>\n",
       "      <td>-0.013251</td>\n",
       "      <td>0</td>\n",
       "      <td>233.5678</td>\n",
       "      <td>235.254</td>\n",
       "      <td>1</td>\n",
       "      <td>232.34</td>\n",
       "      <td>-3.12</td>\n",
       "      <td>100.19</td>\n",
       "    </tr>\n",
       "    <tr>\n",
       "      <th>2021-03-25 16:00:00</th>\n",
       "      <td>235.30</td>\n",
       "      <td>236.94</td>\n",
       "      <td>231.57</td>\n",
       "      <td>232.34</td>\n",
       "      <td>34061853</td>\n",
       "      <td>4.14</td>\n",
       "      <td>0.017819</td>\n",
       "      <td>1</td>\n",
       "      <td>233.9160</td>\n",
       "      <td>234.775</td>\n",
       "      <td>1</td>\n",
       "      <td>236.48</td>\n",
       "      <td>4.14</td>\n",
       "      <td>104.33</td>\n",
       "    </tr>\n",
       "    <tr>\n",
       "      <th>2021-03-26 16:00:00</th>\n",
       "      <td>231.55</td>\n",
       "      <td>236.71</td>\n",
       "      <td>231.55</td>\n",
       "      <td>236.48</td>\n",
       "      <td>25479853</td>\n",
       "      <td>-1.24</td>\n",
       "      <td>-0.005244</td>\n",
       "      <td>0</td>\n",
       "      <td>234.3188</td>\n",
       "      <td>234.848</td>\n",
       "      <td>1</td>\n",
       "      <td>235.24</td>\n",
       "      <td>-1.24</td>\n",
       "      <td>103.09</td>\n",
       "    </tr>\n",
       "    <tr>\n",
       "      <th>2021-03-29 16:00:00</th>\n",
       "      <td>236.59</td>\n",
       "      <td>236.80</td>\n",
       "      <td>231.88</td>\n",
       "      <td>235.24</td>\n",
       "      <td>25227455</td>\n",
       "      <td>-3.39</td>\n",
       "      <td>-0.014411</td>\n",
       "      <td>0</td>\n",
       "      <td>234.7632</td>\n",
       "      <td>234.891</td>\n",
       "      <td>1</td>\n",
       "      <td>231.85</td>\n",
       "      <td>-3.39</td>\n",
       "      <td>99.70</td>\n",
       "    </tr>\n",
       "    <tr>\n",
       "      <th>2021-03-30 16:00:00</th>\n",
       "      <td>233.53</td>\n",
       "      <td>233.85</td>\n",
       "      <td>231.10</td>\n",
       "      <td>231.85</td>\n",
       "      <td>24792012</td>\n",
       "      <td>3.92</td>\n",
       "      <td>0.016907</td>\n",
       "      <td>1</td>\n",
       "      <td>235.1472</td>\n",
       "      <td>234.305</td>\n",
       "      <td>0</td>\n",
       "      <td>NaN</td>\n",
       "      <td>0.00</td>\n",
       "      <td>99.70</td>\n",
       "    </tr>\n",
       "  </tbody>\n",
       "</table>\n",
       "</div>"
      ],
      "text/plain": [
       "                       Open    High     Low   Close    Volume  PriceDiff  \\\n",
       "Date                                                                       \n",
       "2021-03-24 16:00:00  237.85  238.00  235.32  235.46  25620127      -3.12   \n",
       "2021-03-25 16:00:00  235.30  236.94  231.57  232.34  34061853       4.14   \n",
       "2021-03-26 16:00:00  231.55  236.71  231.55  236.48  25479853      -1.24   \n",
       "2021-03-29 16:00:00  236.59  236.80  231.88  235.24  25227455      -3.39   \n",
       "2021-03-30 16:00:00  233.53  233.85  231.10  231.85  24792012       3.92   \n",
       "\n",
       "                       Return  Direction      ma50     ma10  Shares  Close1  \\\n",
       "Date                                                                          \n",
       "2021-03-24 16:00:00 -0.013251          0  233.5678  235.254       1  232.34   \n",
       "2021-03-25 16:00:00  0.017819          1  233.9160  234.775       1  236.48   \n",
       "2021-03-26 16:00:00 -0.005244          0  234.3188  234.848       1  235.24   \n",
       "2021-03-29 16:00:00 -0.014411          0  234.7632  234.891       1  231.85   \n",
       "2021-03-30 16:00:00  0.016907          1  235.1472  234.305       0     NaN   \n",
       "\n",
       "                     Profit  wealth  \n",
       "Date                                 \n",
       "2021-03-24 16:00:00   -3.12  100.19  \n",
       "2021-03-25 16:00:00    4.14  104.33  \n",
       "2021-03-26 16:00:00   -1.24  103.09  \n",
       "2021-03-29 16:00:00   -3.39   99.70  \n",
       "2021-03-30 16:00:00    0.00   99.70  "
      ]
     },
     "execution_count": 79,
     "metadata": {},
     "output_type": "execute_result"
    }
   ],
   "source": [
    "#use .cumsum() to calculate the accumulated wealth over the period\n",
    "ms['wealth'] = ms['Profit'].cumsum()\n",
    "ms.tail()"
   ]
  },
  {
   "cell_type": "code",
   "execution_count": 80,
   "id": "ed4eeb67-1a97-4919-b308-33aa77eeb9f9",
   "metadata": {},
   "outputs": [
    {
     "data": {
      "text/plain": [
       "Text(0.5, 1.0, 'Total money you win is 99.69999999999996')"
      ]
     },
     "execution_count": 80,
     "metadata": {},
     "output_type": "execute_result"
    },
    {
     "data": {
      "image/png": "[encoded data removed]",
      "text/plain": [
       "<Figure size 640x480 with 1 Axes>"
      ]
     },
     "metadata": {},
     "output_type": "display_data"
    }
   ],
   "source": [
    "#plot wealth to show growth of profit over the period\n",
    "ms['wealth'].plot()\n",
    "plt.title('Total money you win is {}'.format(ms.loc[ms.index[-2], 'wealth']))"
   ]
  },
  {
   "cell_type": "markdown",
   "id": "3ab6a24f-5fc5-45b8-90dd-ab8493b8cfa8",
   "metadata": {},
   "source": [
    "# Models of Stock Return "
   ]
  },
  {
   "cell_type": "code",
   "execution_count": 81,
   "id": "159284ba-d7cb-4681-8350-8f0fa1484a05",
   "metadata": {},
   "outputs": [],
   "source": [
    "import numpy as np"
   ]
  },
  {
   "cell_type": "code",
   "execution_count": 82,
   "id": "06d3e061-5658-494f-97cc-ac9c804f7cd7",
   "metadata": {},
   "outputs": [
    {
     "data": {
      "text/html": [
       "<div>\n",
       "<style scoped>\n",
       "    .dataframe tbody tr th:only-of-type {\n",
       "        vertical-align: middle;\n",
       "    }\n",
       "\n",
       "    .dataframe tbody tr th {\n",
       "        vertical-align: top;\n",
       "    }\n",
       "\n",
       "    .dataframe thead th {\n",
       "        text-align: right;\n",
       "    }\n",
       "</style>\n",
       "<table border=\"1\" class=\"dataframe\">\n",
       "  <thead>\n",
       "    <tr style=\"text-align: right;\">\n",
       "      <th></th>\n",
       "      <th>Open</th>\n",
       "      <th>High</th>\n",
       "      <th>Low</th>\n",
       "      <th>Close</th>\n",
       "      <th>Volume</th>\n",
       "      <th>PriceDiff</th>\n",
       "      <th>Return</th>\n",
       "      <th>Direction</th>\n",
       "      <th>ma50</th>\n",
       "      <th>ma10</th>\n",
       "      <th>Shares</th>\n",
       "      <th>Close1</th>\n",
       "      <th>Profit</th>\n",
       "      <th>wealth</th>\n",
       "    </tr>\n",
       "    <tr>\n",
       "      <th>Date</th>\n",
       "      <th></th>\n",
       "      <th></th>\n",
       "      <th></th>\n",
       "      <th></th>\n",
       "      <th></th>\n",
       "      <th></th>\n",
       "      <th></th>\n",
       "      <th></th>\n",
       "      <th></th>\n",
       "      <th></th>\n",
       "      <th></th>\n",
       "      <th></th>\n",
       "      <th></th>\n",
       "      <th></th>\n",
       "    </tr>\n",
       "  </thead>\n",
       "  <tbody>\n",
       "    <tr>\n",
       "      <th>2015-06-11 16:00:00</th>\n",
       "      <td>46.66</td>\n",
       "      <td>46.92</td>\n",
       "      <td>46.13</td>\n",
       "      <td>46.44</td>\n",
       "      <td>27347758</td>\n",
       "      <td>-0.47</td>\n",
       "      <td>-0.010121</td>\n",
       "      <td>0</td>\n",
       "      <td>45.6266</td>\n",
       "      <td>46.479</td>\n",
       "      <td>1</td>\n",
       "      <td>45.97</td>\n",
       "      <td>-0.47</td>\n",
       "      <td>-0.47</td>\n",
       "    </tr>\n",
       "    <tr>\n",
       "      <th>2015-06-12 16:00:00</th>\n",
       "      <td>46.20</td>\n",
       "      <td>46.47</td>\n",
       "      <td>45.90</td>\n",
       "      <td>45.97</td>\n",
       "      <td>23930972</td>\n",
       "      <td>-0.49</td>\n",
       "      <td>-0.010659</td>\n",
       "      <td>0</td>\n",
       "      <td>45.7316</td>\n",
       "      <td>46.390</td>\n",
       "      <td>1</td>\n",
       "      <td>45.48</td>\n",
       "      <td>-0.49</td>\n",
       "      <td>-0.96</td>\n",
       "    </tr>\n",
       "    <tr>\n",
       "      <th>2015-06-15 16:00:00</th>\n",
       "      <td>45.45</td>\n",
       "      <td>45.65</td>\n",
       "      <td>45.02</td>\n",
       "      <td>45.48</td>\n",
       "      <td>33254517</td>\n",
       "      <td>0.35</td>\n",
       "      <td>0.007696</td>\n",
       "      <td>1</td>\n",
       "      <td>45.8354</td>\n",
       "      <td>46.215</td>\n",
       "      <td>1</td>\n",
       "      <td>45.83</td>\n",
       "      <td>0.35</td>\n",
       "      <td>-0.61</td>\n",
       "    </tr>\n",
       "    <tr>\n",
       "      <th>2015-06-16 16:00:00</th>\n",
       "      <td>45.35</td>\n",
       "      <td>46.24</td>\n",
       "      <td>45.30</td>\n",
       "      <td>45.83</td>\n",
       "      <td>27070306</td>\n",
       "      <td>0.14</td>\n",
       "      <td>0.003055</td>\n",
       "      <td>1</td>\n",
       "      <td>45.9210</td>\n",
       "      <td>46.106</td>\n",
       "      <td>1</td>\n",
       "      <td>45.97</td>\n",
       "      <td>0.14</td>\n",
       "      <td>-0.47</td>\n",
       "    </tr>\n",
       "    <tr>\n",
       "      <th>2015-06-17 16:00:00</th>\n",
       "      <td>45.73</td>\n",
       "      <td>46.07</td>\n",
       "      <td>45.36</td>\n",
       "      <td>45.97</td>\n",
       "      <td>28704061</td>\n",
       "      <td>0.75</td>\n",
       "      <td>0.016315</td>\n",
       "      <td>1</td>\n",
       "      <td>46.0098</td>\n",
       "      <td>46.018</td>\n",
       "      <td>1</td>\n",
       "      <td>46.72</td>\n",
       "      <td>0.75</td>\n",
       "      <td>0.28</td>\n",
       "    </tr>\n",
       "  </tbody>\n",
       "</table>\n",
       "</div>"
      ],
      "text/plain": [
       "                      Open   High    Low  Close    Volume  PriceDiff  \\\n",
       "Date                                                                   \n",
       "2015-06-11 16:00:00  46.66  46.92  46.13  46.44  27347758      -0.47   \n",
       "2015-06-12 16:00:00  46.20  46.47  45.90  45.97  23930972      -0.49   \n",
       "2015-06-15 16:00:00  45.45  45.65  45.02  45.48  33254517       0.35   \n",
       "2015-06-16 16:00:00  45.35  46.24  45.30  45.83  27070306       0.14   \n",
       "2015-06-17 16:00:00  45.73  46.07  45.36  45.97  28704061       0.75   \n",
       "\n",
       "                       Return  Direction     ma50    ma10  Shares  Close1  \\\n",
       "Date                                                                        \n",
       "2015-06-11 16:00:00 -0.010121          0  45.6266  46.479       1   45.97   \n",
       "2015-06-12 16:00:00 -0.010659          0  45.7316  46.390       1   45.48   \n",
       "2015-06-15 16:00:00  0.007696          1  45.8354  46.215       1   45.83   \n",
       "2015-06-16 16:00:00  0.003055          1  45.9210  46.106       1   45.97   \n",
       "2015-06-17 16:00:00  0.016315          1  46.0098  46.018       1   46.72   \n",
       "\n",
       "                     Profit  wealth  \n",
       "Date                                 \n",
       "2015-06-11 16:00:00   -0.47   -0.47  \n",
       "2015-06-12 16:00:00   -0.49   -0.96  \n",
       "2015-06-15 16:00:00    0.35   -0.61  \n",
       "2015-06-16 16:00:00    0.14   -0.47  \n",
       "2015-06-17 16:00:00    0.75    0.28  "
      ]
     },
     "execution_count": 82,
     "metadata": {},
     "output_type": "execute_result"
    }
   ],
   "source": [
    "ms.head()"
   ]
  },
  {
   "cell_type": "markdown",
   "id": "30cf6310-8105-4e2e-b112-8bc1fb5c7082",
   "metadata": {},
   "source": [
    "### Distribution of Log Return"
   ]
  },
  {
   "cell_type": "code",
   "execution_count": 83,
   "id": "9a5fa6ab-90c4-4b83-9a46-1a8c47368fee",
   "metadata": {},
   "outputs": [],
   "source": [
    "#lets calculate the daily log return\n",
    "ms['LogReturn'] = np.log(ms['Close']).shift(-1) - np.log(ms['Close'])"
   ]
  },
  {
   "cell_type": "code",
   "execution_count": 84,
   "id": "ebd96600-078b-43e9-bdaf-49a66bd27033",
   "metadata": {},
   "outputs": [
    {
     "data": {
      "image/png": "[encoded data removed]",
      "text/plain": [
       "<Figure size 1500x800 with 1 Axes>"
      ]
     },
     "metadata": {},
     "output_type": "display_data"
    }
   ],
   "source": [
    "# plot histogram to show distribution of log return of microsoft's stock.\n",
    "# you can see it is close to normal distribution\n",
    "from scipy.stats import norm\n",
    "\n",
    "mu = ms['LogReturn'].mean()\n",
    "sigma = ms['LogReturn'].std(ddof=1)\n",
    "\n",
    "density = pd.DataFrame()\n",
    "density['x'] = np.arange(ms['LogReturn'].min()-0.01, ms['LogReturn'].max()+0.01, 0.001)\n",
    "density['pdf'] = norm.pdf(density['x'], mu, sigma)\n",
    "\n",
    "ms['LogReturn'].hist(bins=50, figsize=(15,8))\n",
    "plt.plot(density['x'], density['pdf'], color='red') #this line is probability density func\n",
    "plt.show()"
   ]
  },
  {
   "cell_type": "markdown",
   "id": "0a59743f-dae1-4406-a983-24b56d172aa1",
   "metadata": {},
   "source": [
    "### Calculate probability of stock price will drop over a certain percentage in a day"
   ]
  },
  {
   "cell_type": "code",
   "execution_count": 85,
   "id": "46e79881-846e-4730-8bf5-d7fb18950430",
   "metadata": {},
   "outputs": [
    {
     "name": "stdout",
     "output_type": "stream",
     "text": [
      "The Probability is  0.0016450048414312763\n"
     ]
    }
   ],
   "source": [
    "# probability that stock price of microsoft will drop over 5% in a day \n",
    "prob_return1 = norm.cdf(-0.05, mu, sigma)\n",
    "print('The Probability is ',prob_return1)"
   ]
  },
  {
   "cell_type": "code",
   "execution_count": 86,
   "id": "8673977a-a042-4ec7-a81d-745c85e9293c",
   "metadata": {},
   "outputs": [
    {
     "name": "stdout",
     "output_type": "stream",
     "text": [
      "The Probability is  3.0286798228432315e-09\n"
     ]
    }
   ],
   "source": [
    "# probability of 10% drop\n",
    "prob_return2 = norm.cdf(-0.1, mu, sigma)\n",
    "print('The Probability is ',prob_return2)"
   ]
  },
  {
   "cell_type": "markdown",
   "id": "ff042ca9-a860-4f1f-a2c4-b1b806055e2f",
   "metadata": {},
   "source": [
    "### Calculate probability of stock price will drop over a certain percentage in a year"
   ]
  },
  {
   "cell_type": "code",
   "execution_count": 87,
   "id": "0e74cbb3-d1ad-422e-a1ee-09415adaf9c9",
   "metadata": {},
   "outputs": [
    {
     "name": "stdout",
     "output_type": "stream",
     "text": [
      "The probability of dropping over 40% in 360 days is  0.00787848178755577\n"
     ]
    }
   ],
   "source": [
    "#drop over 40% in 360 days \n",
    "mu360 = 360 * mu\n",
    "sigma360 = (360**0.5) * sigma\n",
    "print('The probability of dropping over 40% in 360 days is ', norm.cdf(-0.4,mu360,sigma360))"
   ]
  },
  {
   "cell_type": "code",
   "execution_count": 88,
   "id": "4d02c3a7-3b8c-41cf-b1b7-495e4633d1c7",
   "metadata": {},
   "outputs": [
    {
     "name": "stdout",
     "output_type": "stream",
     "text": [
      "The probability of dropping over 20% in 360 days is  0.03528756120223843\n"
     ]
    }
   ],
   "source": [
    "# drop over 20% in 360 days \n",
    "print('The probability of dropping over 20% in 360 days is ', norm.cdf(-0.2, mu360,sigma360))"
   ]
  },
  {
   "cell_type": "markdown",
   "id": "433dbbf0-26e2-4940-85f1-5a23b949b824",
   "metadata": {},
   "source": [
    "### Calculate Value at Risk ( VaR)"
   ]
  },
  {
   "cell_type": "code",
   "execution_count": 89,
   "id": "f07f86a7-cae7-4467-892c-f47e0f8a8a5d",
   "metadata": {},
   "outputs": [
    {
     "name": "stdout",
     "output_type": "stream",
     "text": [
      "Single day value at risk -0.027495775034092507\n"
     ]
    }
   ],
   "source": [
    "# Value at Risk\n",
    "VaR = norm.ppf(0.05, mu, sigma)\n",
    "print('Single day value at risk', VaR)"
   ]
  },
  {
   "cell_type": "code",
   "execution_count": 90,
   "id": "e56b0432-e1d4-415a-8660-25298357ffea",
   "metadata": {},
   "outputs": [
    {
     "name": "stdout",
     "output_type": "stream",
     "text": [
      "5% quantile  -0.027495775034092507\n",
      "25% quantile  -0.010625222515238794\n",
      "75% quantile  0.012827865602920685\n",
      "95% quantile  0.029698418121774383\n"
     ]
    }
   ],
   "source": [
    "# Quantile\n",
    "# 5% quantile\n",
    "print('5% quantile ',norm.ppf(0.05, mu, sigma))\n",
    "# 25% quantile\n",
    "print('25% quantile ',norm.ppf(0.25, mu, sigma))\n",
    "#75% quantile\n",
    "print('75% quantile ',norm.ppf(0.75, mu, sigma))\n",
    "# 95% quantile\n",
    "print('95% quantile ',norm.ppf(0.95, mu, sigma))\n"
   ]
  },
  {
   "cell_type": "markdown",
   "id": "edc2ef52-18cf-4eb5-a189-574d4fca2298",
   "metadata": {},
   "source": [
    "# Confidence Interval"
   ]
  },
  {
   "cell_type": "code",
   "execution_count": 91,
   "id": "5760464b-0d9a-4b55-8448-2a9bc0061d42",
   "metadata": {},
   "outputs": [],
   "source": [
    "from scipy.stats import norm"
   ]
  },
  {
   "cell_type": "code",
   "execution_count": 92,
   "id": "8d25a0f9-959d-4140-9ebe-f741c41c354e",
   "metadata": {},
   "outputs": [
    {
     "data": {
      "text/html": [
       "<div>\n",
       "<style scoped>\n",
       "    .dataframe tbody tr th:only-of-type {\n",
       "        vertical-align: middle;\n",
       "    }\n",
       "\n",
       "    .dataframe tbody tr th {\n",
       "        vertical-align: top;\n",
       "    }\n",
       "\n",
       "    .dataframe thead th {\n",
       "        text-align: right;\n",
       "    }\n",
       "</style>\n",
       "<table border=\"1\" class=\"dataframe\">\n",
       "  <thead>\n",
       "    <tr style=\"text-align: right;\">\n",
       "      <th></th>\n",
       "      <th>Open</th>\n",
       "      <th>High</th>\n",
       "      <th>Low</th>\n",
       "      <th>Close</th>\n",
       "      <th>Volume</th>\n",
       "      <th>PriceDiff</th>\n",
       "      <th>Return</th>\n",
       "      <th>Direction</th>\n",
       "      <th>ma50</th>\n",
       "      <th>ma10</th>\n",
       "      <th>Shares</th>\n",
       "      <th>Close1</th>\n",
       "      <th>Profit</th>\n",
       "      <th>wealth</th>\n",
       "      <th>LogReturn</th>\n",
       "    </tr>\n",
       "    <tr>\n",
       "      <th>Date</th>\n",
       "      <th></th>\n",
       "      <th></th>\n",
       "      <th></th>\n",
       "      <th></th>\n",
       "      <th></th>\n",
       "      <th></th>\n",
       "      <th></th>\n",
       "      <th></th>\n",
       "      <th></th>\n",
       "      <th></th>\n",
       "      <th></th>\n",
       "      <th></th>\n",
       "      <th></th>\n",
       "      <th></th>\n",
       "      <th></th>\n",
       "    </tr>\n",
       "  </thead>\n",
       "  <tbody>\n",
       "    <tr>\n",
       "      <th>2015-06-11 16:00:00</th>\n",
       "      <td>46.66</td>\n",
       "      <td>46.92</td>\n",
       "      <td>46.13</td>\n",
       "      <td>46.44</td>\n",
       "      <td>27347758</td>\n",
       "      <td>-0.47</td>\n",
       "      <td>-0.010121</td>\n",
       "      <td>0</td>\n",
       "      <td>45.6266</td>\n",
       "      <td>46.479</td>\n",
       "      <td>1</td>\n",
       "      <td>45.97</td>\n",
       "      <td>-0.47</td>\n",
       "      <td>-0.47</td>\n",
       "      <td>-0.010172</td>\n",
       "    </tr>\n",
       "    <tr>\n",
       "      <th>2015-06-12 16:00:00</th>\n",
       "      <td>46.20</td>\n",
       "      <td>46.47</td>\n",
       "      <td>45.90</td>\n",
       "      <td>45.97</td>\n",
       "      <td>23930972</td>\n",
       "      <td>-0.49</td>\n",
       "      <td>-0.010659</td>\n",
       "      <td>0</td>\n",
       "      <td>45.7316</td>\n",
       "      <td>46.390</td>\n",
       "      <td>1</td>\n",
       "      <td>45.48</td>\n",
       "      <td>-0.49</td>\n",
       "      <td>-0.96</td>\n",
       "      <td>-0.010716</td>\n",
       "    </tr>\n",
       "    <tr>\n",
       "      <th>2015-06-15 16:00:00</th>\n",
       "      <td>45.45</td>\n",
       "      <td>45.65</td>\n",
       "      <td>45.02</td>\n",
       "      <td>45.48</td>\n",
       "      <td>33254517</td>\n",
       "      <td>0.35</td>\n",
       "      <td>0.007696</td>\n",
       "      <td>1</td>\n",
       "      <td>45.8354</td>\n",
       "      <td>46.215</td>\n",
       "      <td>1</td>\n",
       "      <td>45.83</td>\n",
       "      <td>0.35</td>\n",
       "      <td>-0.61</td>\n",
       "      <td>0.007666</td>\n",
       "    </tr>\n",
       "    <tr>\n",
       "      <th>2015-06-16 16:00:00</th>\n",
       "      <td>45.35</td>\n",
       "      <td>46.24</td>\n",
       "      <td>45.30</td>\n",
       "      <td>45.83</td>\n",
       "      <td>27070306</td>\n",
       "      <td>0.14</td>\n",
       "      <td>0.003055</td>\n",
       "      <td>1</td>\n",
       "      <td>45.9210</td>\n",
       "      <td>46.106</td>\n",
       "      <td>1</td>\n",
       "      <td>45.97</td>\n",
       "      <td>0.14</td>\n",
       "      <td>-0.47</td>\n",
       "      <td>0.003050</td>\n",
       "    </tr>\n",
       "    <tr>\n",
       "      <th>2015-06-17 16:00:00</th>\n",
       "      <td>45.73</td>\n",
       "      <td>46.07</td>\n",
       "      <td>45.36</td>\n",
       "      <td>45.97</td>\n",
       "      <td>28704061</td>\n",
       "      <td>0.75</td>\n",
       "      <td>0.016315</td>\n",
       "      <td>1</td>\n",
       "      <td>46.0098</td>\n",
       "      <td>46.018</td>\n",
       "      <td>1</td>\n",
       "      <td>46.72</td>\n",
       "      <td>0.75</td>\n",
       "      <td>0.28</td>\n",
       "      <td>0.016183</td>\n",
       "    </tr>\n",
       "  </tbody>\n",
       "</table>\n",
       "</div>"
      ],
      "text/plain": [
       "                      Open   High    Low  Close    Volume  PriceDiff  \\\n",
       "Date                                                                   \n",
       "2015-06-11 16:00:00  46.66  46.92  46.13  46.44  27347758      -0.47   \n",
       "2015-06-12 16:00:00  46.20  46.47  45.90  45.97  23930972      -0.49   \n",
       "2015-06-15 16:00:00  45.45  45.65  45.02  45.48  33254517       0.35   \n",
       "2015-06-16 16:00:00  45.35  46.24  45.30  45.83  27070306       0.14   \n",
       "2015-06-17 16:00:00  45.73  46.07  45.36  45.97  28704061       0.75   \n",
       "\n",
       "                       Return  Direction     ma50    ma10  Shares  Close1  \\\n",
       "Date                                                                        \n",
       "2015-06-11 16:00:00 -0.010121          0  45.6266  46.479       1   45.97   \n",
       "2015-06-12 16:00:00 -0.010659          0  45.7316  46.390       1   45.48   \n",
       "2015-06-15 16:00:00  0.007696          1  45.8354  46.215       1   45.83   \n",
       "2015-06-16 16:00:00  0.003055          1  45.9210  46.106       1   45.97   \n",
       "2015-06-17 16:00:00  0.016315          1  46.0098  46.018       1   46.72   \n",
       "\n",
       "                     Profit  wealth  LogReturn  \n",
       "Date                                            \n",
       "2015-06-11 16:00:00   -0.47   -0.47  -0.010172  \n",
       "2015-06-12 16:00:00   -0.49   -0.96  -0.010716  \n",
       "2015-06-15 16:00:00    0.35   -0.61   0.007666  \n",
       "2015-06-16 16:00:00    0.14   -0.47   0.003050  \n",
       "2015-06-17 16:00:00    0.75    0.28   0.016183  "
      ]
     },
     "execution_count": 92,
     "metadata": {},
     "output_type": "execute_result"
    }
   ],
   "source": [
    "ms.head()"
   ]
  },
  {
   "cell_type": "markdown",
   "id": "9bcceb90-8b88-46e5-8477-55e2ad2b81d0",
   "metadata": {},
   "source": [
    "### Estimate average stock return with 90% confidence interval"
   ]
  },
  {
   "cell_type": "code",
   "execution_count": 95,
   "id": "6d340ced-f6b5-4ebb-ab43-9eff4b8aa04e",
   "metadata": {},
   "outputs": [],
   "source": [
    "# we will use log return for average stock return of microsoft\n",
    "\n",
    "# lets build 90% confidence interval for log return\n",
    "sample_size = ms['LogReturn'].shape[0]\n",
    "sample_mean = ms['LogReturn'].mean()\n",
    "sample_std = ms['LogReturn'].std(ddof=1)/sample_size**0.5\n",
    "# Confidence level\n",
    "confidence_level = 0.90\n",
    "alpha = 1 - confidence_level\n",
    "# left and right quantile\n",
    "z_left = norm.ppf(alpha/2)\n",
    "z_right = norm.ppf(1-alpha/2)\n",
    "# upper and lower bound\n",
    "interval_left = sample_mean+z_left*sample_std\n",
    "interval_right = sample_mean+z_right*sample_std"
   ]
  },
  {
   "cell_type": "code",
   "execution_count": 98,
   "id": "955694c3-f0f8-492b-a263-113c40f2b0c8",
   "metadata": {},
   "outputs": [
    {
     "name": "stdout",
     "output_type": "stream",
     "text": [
      "90% confidence interval is  (np.float64(0.0003531574972708175), np.float64(0.001849485590411071))\n"
     ]
    }
   ],
   "source": [
    "# 90% confidence interval tells you that there will be 90% chance that the average stock return lies between \"interval_left\"\n",
    "# and \"interval_right\".\n",
    "print('90% confidence interval is ',(interval_left, interval_right))"
   ]
  },
  {
   "cell_type": "markdown",
   "id": "b8ae06a2-8d5e-486f-9210-e19bee411c23",
   "metadata": {},
   "source": [
    "# Hypothesis testing"
   ]
  },
  {
   "cell_type": "code",
   "execution_count": 104,
   "id": "5283dd88-fa7b-4441-bebc-a68c3b955f4f",
   "metadata": {},
   "outputs": [
    {
     "data": {
      "image/png": "[encoded data removed]",
      "text/plain": [
       "<Figure size 2000x800 with 1 Axes>"
      ]
     },
     "metadata": {},
     "output_type": "display_data"
    }
   ],
   "source": [
    "# Log return goes up and down during the period\n",
    "ms['LogReturn'].plot(figsize=(20, 8))\n",
    "plt.axhline(0, color='red')\n",
    "plt.show()"
   ]
  },
  {
   "cell_type": "markdown",
   "id": "4f2e4420-6962-4529-b0eb-ebc96ae7e55f",
   "metadata": {},
   "source": [
    "## Steps involved in testing a claim by hypothesis testing"
   ]
  },
  {
   "cell_type": "markdown",
   "id": "22a38785-11a8-4718-ada7-88181e1c3960",
   "metadata": {},
   "source": [
    "### Step 1 : Set hypothesis\n",
    "#### Ho : u = 0\n",
    "#### Ha : u |= 0\n",
    "\n",
    "Ho means the average stock return is 0 \n",
    "Ha means average stock return is not equal to 0"
   ]
  },
  {
   "cell_type": "markdown",
   "id": "0929cc5f-c23c-47b4-ac96-57e8fb2dcede",
   "metadata": {},
   "source": [
    "## Step 2: Calculate test statistic"
   ]
  },
  {
   "cell_type": "code",
   "execution_count": 105,
   "id": "b554bed0-6cef-49ce-9f2d-3f68cc4eb1fd",
   "metadata": {},
   "outputs": [
    {
     "name": "stdout",
     "output_type": "stream",
     "text": [
      "2.4212774512905924\n"
     ]
    }
   ],
   "source": [
    "sample_mean = ms['LogReturn'].mean()\n",
    "sample_std = ms['LogReturn'].std(ddof=1)\n",
    "n = ms['LogReturn'].shape[0]\n",
    "# if sample size n is large enough , we can use z-distributiom, instead of t-distribution\n",
    "#mu = 0 under the null hypothesis\n",
    "zhat = (sample_mean - 0)/(sample_std/n**0.5)\n",
    "print(zhat)"
   ]
  },
  {
   "cell_type": "markdown",
   "id": "171219e1-8a22-407d-a525-e46566b6f607",
   "metadata": {},
   "source": [
    "## Step 3: Set decision criteria"
   ]
  },
  {
   "cell_type": "code",
   "execution_count": 106,
   "id": "11cd08d4-51da-4385-9c94-7647b8e34b63",
   "metadata": {},
   "outputs": [
    {
     "name": "stdout",
     "output_type": "stream",
     "text": [
      "-1.9599639845400545 1.9599639845400545\n"
     ]
    }
   ],
   "source": [
    "#confidence level\n",
    "alpha = 0.05\n",
    "zleft = norm.ppf(alpha/2, 0 , 1)\n",
    "zright = -zleft # z-distribution is symmetric\n",
    "print(zleft, zright)"
   ]
  },
  {
   "cell_type": "markdown",
   "id": "326d27f8-6337-4ee4-a289-cb2e4195999d",
   "metadata": {},
   "source": [
    "## Step 4: Make decision - shall we reject Ho"
   ]
  },
  {
   "cell_type": "code",
   "execution_count": 108,
   "id": "6add065d-165c-458e-8644-da6059d363e4",
   "metadata": {},
   "outputs": [
    {
     "name": "stdout",
     "output_type": "stream",
     "text": [
      "At significant level of 0.05, shall we reject : True\n"
     ]
    }
   ],
   "source": [
    "# this is 2 tail test\n",
    "print('At significant level of {}, shall we reject : {}'.format(alpha, zhat>zright or zhat<zleft))"
   ]
  },
  {
   "cell_type": "markdown",
   "id": "c7c9279a-13df-4940-9ff5-46bafd54138e",
   "metadata": {},
   "source": [
    "For one tailed test , step 1 and step 2 same . "
   ]
  },
  {
   "cell_type": "code",
   "execution_count": 111,
   "id": "58ea384f-00ec-4a43-a434-41d58de66045",
   "metadata": {},
   "outputs": [
    {
     "name": "stdout",
     "output_type": "stream",
     "text": [
      "1.6448536269514722\n",
      "2.4212774512905924\n"
     ]
    }
   ],
   "source": [
    "# step3 for one tail test \n",
    "alpha = 0.05\n",
    "zright = norm.ppf(1-alpha,0,1)\n",
    "print(zright)\n",
    "print(zhat)"
   ]
  },
  {
   "cell_type": "code",
   "execution_count": 112,
   "id": "f63cc493-9f5f-4eb7-bd75-15f5f01459df",
   "metadata": {},
   "outputs": [
    {
     "name": "stdout",
     "output_type": "stream",
     "text": [
      "At significant level of 0.05, shall we reject : True\n"
     ]
    }
   ],
   "source": [
    "print('At significant level of {}, shall we reject : {}'.format(alpha, zhat>zright))"
   ]
  },
  {
   "cell_type": "markdown",
   "id": "355d66ab-8dff-4dab-9ff2-348f8821fa95",
   "metadata": {},
   "source": [
    "# An alternative method : p value"
   ]
  },
  {
   "cell_type": "code",
   "execution_count": 113,
   "id": "74358dff-9a3e-46fa-94cc-58b5a2ffe9a1",
   "metadata": {},
   "outputs": [],
   "source": [
    "#step 3 p value"
   ]
  },
  {
   "cell_type": "code",
   "execution_count": 114,
   "id": "7e51e52f-8299-4cdd-b758-a8fdcb972c24",
   "metadata": {},
   "outputs": [
    {
     "name": "stdout",
     "output_type": "stream",
     "text": [
      "0.007733033929654742\n"
     ]
    }
   ],
   "source": [
    "p = 1 - norm.cdf(zhat, 0 ,1)\n",
    "print(p)"
   ]
  },
  {
   "cell_type": "code",
   "execution_count": 115,
   "id": "da6a05cd-5cec-4931-8b59-97263c996214",
   "metadata": {},
   "outputs": [
    {
     "name": "stdout",
     "output_type": "stream",
     "text": [
      "At significant level of 0.05, shall we reject: True\n"
     ]
    }
   ],
   "source": [
    "# step 4\n",
    "print('At significant level of {}, shall we reject: {}'.format(alpha, p < alpha))"
   ]
  },
  {
   "cell_type": "code",
   "execution_count": null,
   "id": "e843f827-637d-47be-a2cf-7f3aaeeb90bc",
   "metadata": {},
   "outputs": [],
   "source": []
  }
 ],
 "metadata": {
  "kernelspec": {
   "display_name": "Python 3 (ipykernel)",
   "language": "python",
   "name": "python3"
  },
  "language_info": {
   "codemirror_mode": {
    "name": "ipython",
    "version": 3
   },
   "file_extension": ".py",
   "mimetype": "text/x-python",
   "name": "python",
   "nbconvert_exporter": "python",
   "pygments_lexer": "ipython3",
   "version": "3.11.13"
  }
 },
 "nbformat": 4,
 "nbformat_minor": 5
}
